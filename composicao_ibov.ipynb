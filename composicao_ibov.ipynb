{
 "cells": [
  {
   "cell_type": "code",
   "execution_count": 30,
   "metadata": {},
   "outputs": [],
   "source": [
    "import pandas as pd\n",
    "from datetime import date\n",
    "import os\n",
    "\n",
    "from selenium import webdriver\n",
    "from selenium.webdriver.chrome.service import Service\n",
    "from webdriver_manager.chrome import ChromeDriverManager"
   ]
  },
  {
   "attachments": {},
   "cell_type": "markdown",
   "metadata": {},
   "source": [
    "## Código de como baixar o csv com a composição do IBOV"
   ]
  },
  {
   "cell_type": "code",
   "execution_count": 25,
   "metadata": {},
   "outputs": [],
   "source": [
    "driver = webdriver.Chrome(service=Service(ChromeDriverManager().install()))"
   ]
  },
  {
   "cell_type": "code",
   "execution_count": 21,
   "metadata": {},
   "outputs": [],
   "source": [
    "driver.get('''https://www.b3.com.br/pt_br/market-data-e-indices/indices\n",
    "/indices-amplos/indice-ibovespa-ibovespa-composicao-da-carteira.htm''')\n",
    "\n",
    "\n",
    "driver.maximize_window()"
   ]
  },
  {
   "cell_type": "code",
   "execution_count": 26,
   "metadata": {},
   "outputs": [],
   "source": [
    "iframe = driver.find_element('id', 'bvmf_iframe')\n",
    "\n",
    "driver.switch_to.frame(iframe)"
   ]
  },
  {
   "cell_type": "code",
   "execution_count": 14,
   "metadata": {},
   "outputs": [],
   "source": [
    "os.chdir(os.getcwd())"
   ]
  },
  {
   "cell_type": "code",
   "execution_count": 27,
   "metadata": {},
   "outputs": [],
   "source": [
    "planilha = driver.find_element('xpath', '//*[@id=\"divContainerIframeB3\"]/div/div[1]/form/div[2]/div/div[2]/div/div/div[1]/div[2]/p/a')\n",
    "driver.execute_script('arguments[0].click()', planilha)"
   ]
  },
  {
   "cell_type": "code",
   "execution_count": 28,
   "metadata": {},
   "outputs": [],
   "source": [
    "driver.quit()"
   ]
  },
  {
   "attachments": {},
   "cell_type": "markdown",
   "metadata": {},
   "source": [
    "## Código de como abrir o csv e formatar o DataFrame"
   ]
  },
  {
   "cell_type": "code",
   "execution_count": 31,
   "metadata": {},
   "outputs": [
    {
     "name": "stdout",
     "output_type": "stream",
     "text": [
      "19 06 23\n"
     ]
    }
   ],
   "source": [
    "dia = date.today().day\n",
    "mes = date.today().month\n",
    "ano = date.today().year\n",
    "\n",
    "if dia < 10:\n",
    "    dia = '0' + str(dia)\n",
    "\n",
    "if mes < 10:\n",
    "    mes = '0' + str(mes)\n",
    "\n",
    "ano = str(ano)[2:]\n",
    "\n",
    "print(dia, mes, ano)"
   ]
  },
  {
   "cell_type": "code",
   "execution_count": 54,
   "metadata": {},
   "outputs": [
    {
     "data": {
      "text/html": [
       "<div>\n",
       "<style scoped>\n",
       "    .dataframe tbody tr th:only-of-type {\n",
       "        vertical-align: middle;\n",
       "    }\n",
       "\n",
       "    .dataframe tbody tr th {\n",
       "        vertical-align: top;\n",
       "    }\n",
       "\n",
       "    .dataframe thead th {\n",
       "        text-align: right;\n",
       "    }\n",
       "</style>\n",
       "<table border=\"1\" class=\"dataframe\">\n",
       "  <thead>\n",
       "    <tr style=\"text-align: right;\">\n",
       "      <th></th>\n",
       "      <th>Código</th>\n",
       "      <th>Ação</th>\n",
       "      <th>Tipo</th>\n",
       "      <th>Qtde. Teórica</th>\n",
       "      <th>Part. (%)</th>\n",
       "    </tr>\n",
       "  </thead>\n",
       "  <tbody>\n",
       "    <tr>\n",
       "      <th>0</th>\n",
       "      <td>RRRP3</td>\n",
       "      <td>3R PETROLEUM</td>\n",
       "      <td>ON      NM</td>\n",
       "      <td>234689601</td>\n",
       "      <td>0.368</td>\n",
       "    </tr>\n",
       "    <tr>\n",
       "      <th>1</th>\n",
       "      <td>ALSO3</td>\n",
       "      <td>ALIANSCSONAE</td>\n",
       "      <td>ON      NM</td>\n",
       "      <td>532365440</td>\n",
       "      <td>0.602</td>\n",
       "    </tr>\n",
       "    <tr>\n",
       "      <th>2</th>\n",
       "      <td>ALPA4</td>\n",
       "      <td>ALPARGATAS</td>\n",
       "      <td>PN      N1</td>\n",
       "      <td>202765994</td>\n",
       "      <td>0.109</td>\n",
       "    </tr>\n",
       "    <tr>\n",
       "      <th>3</th>\n",
       "      <td>ABEV3</td>\n",
       "      <td>AMBEV S/A</td>\n",
       "      <td>ON</td>\n",
       "      <td>4386652506</td>\n",
       "      <td>3.192</td>\n",
       "    </tr>\n",
       "    <tr>\n",
       "      <th>4</th>\n",
       "      <td>ARZZ3</td>\n",
       "      <td>AREZZO CO</td>\n",
       "      <td>ON      NM</td>\n",
       "      <td>60758326</td>\n",
       "      <td>0.220</td>\n",
       "    </tr>\n",
       "    <tr>\n",
       "      <th>...</th>\n",
       "      <td>...</td>\n",
       "      <td>...</td>\n",
       "      <td>...</td>\n",
       "      <td>...</td>\n",
       "      <td>...</td>\n",
       "    </tr>\n",
       "    <tr>\n",
       "      <th>81</th>\n",
       "      <td>VALE3</td>\n",
       "      <td>VALE</td>\n",
       "      <td>ON      NM</td>\n",
       "      <td>4035078991</td>\n",
       "      <td>13.575</td>\n",
       "    </tr>\n",
       "    <tr>\n",
       "      <th>82</th>\n",
       "      <td>VIIA3</td>\n",
       "      <td>VIA</td>\n",
       "      <td>ON      NM</td>\n",
       "      <td>1576975642</td>\n",
       "      <td>0.194</td>\n",
       "    </tr>\n",
       "    <tr>\n",
       "      <th>83</th>\n",
       "      <td>VBBR3</td>\n",
       "      <td>VIBRA</td>\n",
       "      <td>ON      NM</td>\n",
       "      <td>1114442976</td>\n",
       "      <td>0.948</td>\n",
       "    </tr>\n",
       "    <tr>\n",
       "      <th>84</th>\n",
       "      <td>WEGE3</td>\n",
       "      <td>WEG</td>\n",
       "      <td>ON      NM</td>\n",
       "      <td>1260665218</td>\n",
       "      <td>2.304</td>\n",
       "    </tr>\n",
       "    <tr>\n",
       "      <th>85</th>\n",
       "      <td>YDUQ3</td>\n",
       "      <td>YDUQS PART</td>\n",
       "      <td>ON      NM</td>\n",
       "      <td>296015511</td>\n",
       "      <td>0.266</td>\n",
       "    </tr>\n",
       "  </tbody>\n",
       "</table>\n",
       "<p>86 rows × 5 columns</p>\n",
       "</div>"
      ],
      "text/plain": [
       "   Código          Ação        Tipo  Qtde. Teórica  Part. (%)\n",
       "0   RRRP3  3R PETROLEUM  ON      NM      234689601      0.368\n",
       "1   ALSO3  ALIANSCSONAE  ON      NM      532365440      0.602\n",
       "2   ALPA4    ALPARGATAS  PN      N1      202765994      0.109\n",
       "3   ABEV3     AMBEV S/A          ON     4386652506      3.192\n",
       "4   ARZZ3     AREZZO CO  ON      NM       60758326      0.220\n",
       "..    ...           ...         ...            ...        ...\n",
       "81  VALE3          VALE  ON      NM     4035078991     13.575\n",
       "82  VIIA3           VIA  ON      NM     1576975642      0.194\n",
       "83  VBBR3         VIBRA  ON      NM     1114442976      0.948\n",
       "84  WEGE3           WEG  ON      NM     1260665218      2.304\n",
       "85  YDUQ3    YDUQS PART  ON      NM      296015511      0.266\n",
       "\n",
       "[86 rows x 5 columns]"
      ]
     },
     "execution_count": 54,
     "metadata": {},
     "output_type": "execute_result"
    }
   ],
   "source": [
    "ibovComposicao = pd.read_csv(fr'C:\\Users\\Caio\\Downloads\\IBOVDia_{dia}-{mes}-{ano}.csv', sep= ';', skipfooter= 2 , encoding= 'ISO-8859-1', engine= 'python',\n",
    "                             decimal= ',', thousands= '.', header= 1, index_col= False)\n",
    "\n",
    "ibovComposicao"
   ]
  }
 ],
 "metadata": {
  "kernelspec": {
   "display_name": "base",
   "language": "python",
   "name": "python3"
  },
  "language_info": {
   "codemirror_mode": {
    "name": "ipython",
    "version": 3
   },
   "file_extension": ".py",
   "mimetype": "text/x-python",
   "name": "python",
   "nbconvert_exporter": "python",
   "pygments_lexer": "ipython3",
   "version": "3.10.9"
  },
  "orig_nbformat": 4
 },
 "nbformat": 4,
 "nbformat_minor": 2
}
